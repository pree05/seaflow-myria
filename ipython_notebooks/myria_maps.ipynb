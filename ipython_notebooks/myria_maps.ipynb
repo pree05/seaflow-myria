{
 "metadata": {
  "name": "",
  "signature": "sha256:7db8d209a941d7ee6ddea804083cc2768899e53d69366da5fccfe00277914d5e"
 },
 "nbformat": 3,
 "nbformat_minor": 0,
 "worksheets": [
  {
   "cells": [
    {
     "cell_type": "code",
     "collapsed": false,
     "input": [
      "import numpy as np\n",
      "import pandas as pd\n",
      "import matplotlib.pyplot as plt\n",
      "\n",
      "from mpl_toolkits.basemap import Basemap, cm\n",
      "from netCDF4 import Dataset as NetCDFFile"
     ],
     "language": "python",
     "metadata": {},
     "outputs": []
    },
    {
     "cell_type": "code",
     "collapsed": false,
     "input": [
      "# import data directly from myria\n",
      "\n",
      "# myria query:\n",
      "# beads_TS = SELECT b.fsc_avg, t.LAT, t.LON\n",
      "# FROM SCAN(armbrustlab:seaflow:bead_stats_v4_byfile_untrans) AS b,\n",
      "# SCAN(armbrustlab:seaflow:all_sds_v2) AS t          \n",
      "# WHERE b.Cruise = t.Cruise AND b.Day = t.day AND INT(b.File_Id) = t.file;\n",
      "# STORE(beads_TS,armbrustlab:seaflow:beads_LATLON);\n",
      "\n",
      "fileURL = 'https://rest.myria.cs.washington.edu:1776/dataset/user-armbrustlab/program-seaflow/relation-beads_LATLON/data?format=csv'\n",
      "result = pd.read_csv(fileURL,skiprows=1).values"
     ],
     "language": "python",
     "metadata": {},
     "outputs": []
    },
    {
     "cell_type": "code",
     "collapsed": false,
     "input": [
      "# plot the mean bead fsc_small value in space"
     ],
     "language": "python",
     "metadata": {},
     "outputs": []
    }
   ],
   "metadata": {}
  }
 ]
}